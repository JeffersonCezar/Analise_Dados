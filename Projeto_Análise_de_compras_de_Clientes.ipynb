{
  "nbformat": 4,
  "nbformat_minor": 0,
  "metadata": {
    "colab": {
      "name": "Projeto - Análise de compras de Clientes",
      "provenance": [],
      "mount_file_id": "1nTTwmye9fQUFgn1fwxisby5KUfDBmjnR",
      "authorship_tag": "ABX9TyPaITceO+nqOCCD4qBRBUr2",
      "include_colab_link": true
    },
    "kernelspec": {
      "name": "python3",
      "display_name": "Python 3"
    },
    "language_info": {
      "name": "python"
    }
  },
  "cells": [
    {
      "cell_type": "markdown",
      "metadata": {
        "id": "view-in-github",
        "colab_type": "text"
      },
      "source": [
        "<a href=\"https://colab.research.google.com/github/JeffersonCezar/Analise_Dados/blob/main/Projeto_An%C3%A1lise_de_compras_de_Clientes.ipynb\" target=\"_parent\"><img src=\"https://colab.research.google.com/assets/colab-badge.svg\" alt=\"Open In Colab\"/></a>"
      ]
    },
    {
      "cell_type": "markdown",
      "metadata": {
        "id": "ThdwfTOUi8ka"
      },
      "source": [
        "### Analise de compras de Clientes de várias academias nos últimos 30 dias"
      ]
    },
    {
      "cell_type": "markdown",
      "metadata": {
        "id": "XzH7pyEG2vGd"
      },
      "source": [
        "### **IMPORTANDO BIBLIOTECAS**"
      ]
    },
    {
      "cell_type": "code",
      "metadata": {
        "id": "qJWu--n2dzTr"
      },
      "source": [
        "# Importando Pandas e MatplotLib\n",
        "import pandas as pd\n",
        "import matplotlib.pyplot as plt\n",
        "import numpy as np\n",
        "\n",
        "# Trabalhando com Data e Hora\n",
        "from datetime import date, datetime, timedelta"
      ],
      "execution_count": 1,
      "outputs": []
    },
    {
      "cell_type": "markdown",
      "metadata": {
        "id": "-3_JyQkw28JQ"
      },
      "source": [
        "### **IMPORTANDO ARQUIVO CSV**"
      ]
    },
    {
      "cell_type": "code",
      "metadata": {
        "id": "69S5c3YDnoG7"
      },
      "source": [
        "# Importando plano para Dataframe\n",
        "df_clientes = pd.read_csv(\"/content/drive/MyDrive/Datasets/Cliente_SGA.csv\", sep=\";\")\n",
        "#df_clientes.head(3)"
      ],
      "execution_count": 2,
      "outputs": []
    },
    {
      "cell_type": "code",
      "metadata": {
        "id": "NHKeAgzstHyZ"
      },
      "source": [
        "# Informações sobre o dataframe\n",
        "print(\"Tamanho do dataframe: \", df_clientes.shape)\n",
        "# Datatypes de cada coluna\n",
        "df_clientes.dtypes  "
      ],
      "execution_count": null,
      "outputs": []
    },
    {
      "cell_type": "markdown",
      "metadata": {
        "id": "Sa63ajUS3VeW"
      },
      "source": [
        "### **TRANSFORMAÇÃO DE DADOS**"
      ]
    },
    {
      "cell_type": "code",
      "metadata": {
        "id": "3ePXvO1SzjfJ"
      },
      "source": [
        "# Convertendo colunas para tipo DATA\n",
        "df_clientes[\"DATA_CONTRATACAO\"] = pd.to_datetime(df_clientes[\"DATA_CONTRATACAO\"])\n",
        "df_clientes[\"DATA_NASCIMENTO\"] = pd.to_datetime(df_clientes[\"DATA_NASCIMENTO\"])\n",
        "df_clientes[\"INICIO_VIGENCIA_PLANO\"] = pd.to_datetime(df_clientes[\"INICIO_VIGENCIA_PLANO\"])\n",
        "df_clientes[\"TERMINO_VIGENCIA_PLANO\"] = pd.to_datetime(df_clientes[\"TERMINO_VIGENCIA_PLANO\"])\n",
        "df_clientes[\"TERMINO_PLANO_ACORDADO\"] = pd.to_datetime(df_clientes[\"TERMINO_PLANO_ACORDADO\"])\n",
        "\n",
        "# Substituindo caracteres flutuantes\n",
        "df_clientes['PRECO_PLANO'] = df_clientes['PRECO_PLANO'].str.replace('.','').str.replace(',','.') \n",
        "df_clientes['DESCONTO_PRECO_PLANO'] = df_clientes['DESCONTO_PRECO_PLANO'].str.replace('.','').str.replace(',','.')\n",
        "df_clientes['VALOR_FINAL_PLANO'] = df_clientes['VALOR_FINAL_PLANO'].str.replace('.','').str.replace(',','.')\n",
        "\n",
        "# Convertendo string em Float\n",
        "df_clientes['PRECO_PLANO'] = df_clientes['PRECO_PLANO'].astype(float) \n",
        "df_clientes['DESCONTO_PRECO_PLANO'] = df_clientes['DESCONTO_PRECO_PLANO'].astype(float)\n",
        "df_clientes['VALOR_FINAL_PLANO'] = df_clientes['VALOR_FINAL_PLANO'].astype(float)\n",
        "\n",
        "# Datatypes de cada coluna após conversão de campos do tipo DATA\n",
        "df_clientes.dtypes  "
      ],
      "execution_count": null,
      "outputs": []
    },
    {
      "cell_type": "code",
      "metadata": {
        "id": "T5rZjZHt4w2u"
      },
      "source": [
        "# Verificando a quantidade de valores nulos no DF\n",
        "df_clientes.isnull().sum()"
      ],
      "execution_count": null,
      "outputs": []
    },
    {
      "cell_type": "code",
      "metadata": {
        "id": "Fc78VBsW5Mlq"
      },
      "source": [
        "# Substituindo valores nulos\n",
        "df_clientes[\"FATOR_REAJUSTE_EMPRESA_CONVENIADA\"].fillna(0, inplace=True) # Subsituindo por zero (0) FATOR_REAJUSTE_EMPRESA_CONVENIADA\n",
        "df_clientes[\"EMPRESA_CONVENIADA\"].fillna('Sem Convênio', inplace=True) # Subsituindo valores nulos por \"Sem convênio\" EMPRESA_CONVENIADA\n",
        "\n",
        "# Verificando a quantidade de valores nulos no DF após transformação de dados\n",
        "df_clientes.isnull().sum()"
      ],
      "execution_count": null,
      "outputs": []
    },
    {
      "cell_type": "code",
      "metadata": {
        "colab": {
          "base_uri": "https://localhost:8080/",
          "height": 165
        },
        "id": "r3TzKzbuE60Q",
        "outputId": "84502405-a6df-4007-b774-00c367bdc90b"
      },
      "source": [
        "# Transformando alguns dados:\n",
        "df_clientes[\"IDADE\"] = round(((pd.to_datetime(date.today()) - pd.to_datetime(df_clientes[\"DATA_NASCIMENTO\"]) ).dt.days)/365.2425 , 1)    # Idade dos clientes\n",
        "df_clientes[\"FAIXA_ETARIA\"] = ''\n",
        "df_clientes.loc[df_clientes['IDADE'].between(0, 11.9, inclusive=True), 'FAIXA_ETARIA'] = 'Criança'\n",
        "df_clientes.loc[df_clientes['IDADE'].between(12, 25.9, inclusive=True), 'FAIXA_ETARIA'] = 'Jovem'\n",
        "df_clientes.loc[df_clientes['IDADE'].between(26, 59.9, inclusive=True), 'FAIXA_ETARIA'] = 'Adulto'\n",
        "df_clientes.loc[df_clientes['IDADE'].between(60, 200, inclusive=True), 'FAIXA_ETARIA'] = 'Idoso'\n",
        "df_clientes[\"DIA_PAGAMENTO\"] = df_clientes[\"DATA_CONTRATACAO\"].dt.day                               # Dia de pagamento da mensalidade\n",
        "df_clientes[\"PRAZO_CONTRATADO\"] = (df_clientes[\"TERMINO_PLANO_ACORDADO\"] - df_clientes[\"INICIO_VIGENCIA_PLANO\"]).dt.days # Prazo contratado\n",
        "\n",
        "df_clientes.sample(2)"
      ],
      "execution_count": 64,
      "outputs": [
        {
          "output_type": "execute_result",
          "data": {
            "text/html": [
              "<div>\n",
              "<style scoped>\n",
              "    .dataframe tbody tr th:only-of-type {\n",
              "        vertical-align: middle;\n",
              "    }\n",
              "\n",
              "    .dataframe tbody tr th {\n",
              "        vertical-align: top;\n",
              "    }\n",
              "\n",
              "    .dataframe thead th {\n",
              "        text-align: right;\n",
              "    }\n",
              "</style>\n",
              "<table border=\"1\" class=\"dataframe\">\n",
              "  <thead>\n",
              "    <tr style=\"text-align: right;\">\n",
              "      <th></th>\n",
              "      <th>UNIDADE</th>\n",
              "      <th>DATA_CONTRATACAO</th>\n",
              "      <th>MATRICULA</th>\n",
              "      <th>CLIENTE</th>\n",
              "      <th>SEXO</th>\n",
              "      <th>DATA_NASCIMENTO</th>\n",
              "      <th>ESTRANGEIRO</th>\n",
              "      <th>INICIO_VIGENCIA_PLANO</th>\n",
              "      <th>TERMINO_VIGENCIA_PLANO</th>\n",
              "      <th>TERMINO_PLANO_ACORDADO</th>\n",
              "      <th>ESTADO_CONTRATO</th>\n",
              "      <th>RETROAGIDO</th>\n",
              "      <th>PLANO</th>\n",
              "      <th>FREQUENCIA</th>\n",
              "      <th>PERIODICIDADE</th>\n",
              "      <th>ESTADO_PLANO_CONTRATO</th>\n",
              "      <th>VALIDADE_PRECO</th>\n",
              "      <th>PRECO_PLANO</th>\n",
              "      <th>DESCONTO_PRECO_PLANO</th>\n",
              "      <th>VALOR_FINAL_PLANO</th>\n",
              "      <th>EMPRESA_CONVENIADA</th>\n",
              "      <th>FATOR_REAJUSTE_EMPRESA_CONVENIADA</th>\n",
              "      <th>NUMERO_CARRINHO_COMPRA</th>\n",
              "      <th>STATUS_CLIENTE</th>\n",
              "      <th>IDADE</th>\n",
              "      <th>FAIXA_ETARIA</th>\n",
              "      <th>DIA_PAGAMENTO</th>\n",
              "      <th>PRAZO_CONTRATADO</th>\n",
              "    </tr>\n",
              "  </thead>\n",
              "  <tbody>\n",
              "    <tr>\n",
              "      <th>3277</th>\n",
              "      <td>UNIDADE 45</td>\n",
              "      <td>2021-08-18 07:20:35.627</td>\n",
              "      <td>722168</td>\n",
              "      <td>CLIENTE 722168</td>\n",
              "      <td>F</td>\n",
              "      <td>1984-11-14</td>\n",
              "      <td>N</td>\n",
              "      <td>2021-08-18</td>\n",
              "      <td>2021-09-17</td>\n",
              "      <td>2021-09-17</td>\n",
              "      <td>Ativo</td>\n",
              "      <td>0</td>\n",
              "      <td>Fitness Débito</td>\n",
              "      <td>7x</td>\n",
              "      <td>Mensal</td>\n",
              "      <td>Ativo</td>\n",
              "      <td>2021-08-23 07:20:35.640</td>\n",
              "      <td>436.03</td>\n",
              "      <td>436.03</td>\n",
              "      <td>418.44</td>\n",
              "      <td>Sem Convênio</td>\n",
              "      <td>0.0</td>\n",
              "      <td>131933</td>\n",
              "      <td>Ativo</td>\n",
              "      <td>36.8</td>\n",
              "      <td>Adulto</td>\n",
              "      <td>18</td>\n",
              "      <td>30</td>\n",
              "    </tr>\n",
              "    <tr>\n",
              "      <th>11017</th>\n",
              "      <td>UNIDADE 36</td>\n",
              "      <td>2021-08-10 16:18:52.973</td>\n",
              "      <td>386355</td>\n",
              "      <td>CLIENTE 386355</td>\n",
              "      <td>M</td>\n",
              "      <td>1968-11-05</td>\n",
              "      <td>N</td>\n",
              "      <td>2021-08-10</td>\n",
              "      <td>2021-09-09</td>\n",
              "      <td>2021-09-09</td>\n",
              "      <td>Ativo</td>\n",
              "      <td>0</td>\n",
              "      <td>Fitness Débito</td>\n",
              "      <td>7x</td>\n",
              "      <td>Mensal</td>\n",
              "      <td>Ativo</td>\n",
              "      <td>2021-12-31 00:00:00.000</td>\n",
              "      <td>514.44</td>\n",
              "      <td>514.44</td>\n",
              "      <td>380.50</td>\n",
              "      <td>Sem Convênio</td>\n",
              "      <td>0.0</td>\n",
              "      <td>93901</td>\n",
              "      <td>Ativo</td>\n",
              "      <td>52.8</td>\n",
              "      <td>Adulto</td>\n",
              "      <td>10</td>\n",
              "      <td>30</td>\n",
              "    </tr>\n",
              "  </tbody>\n",
              "</table>\n",
              "</div>"
            ],
            "text/plain": [
              "          UNIDADE        DATA_CONTRATACAO  ...  DIA_PAGAMENTO PRAZO_CONTRATADO\n",
              "3277   UNIDADE 45 2021-08-18 07:20:35.627  ...             18               30\n",
              "11017  UNIDADE 36 2021-08-10 16:18:52.973  ...             10               30\n",
              "\n",
              "[2 rows x 28 columns]"
            ]
          },
          "metadata": {},
          "execution_count": 64
        }
      ]
    },
    {
      "cell_type": "markdown",
      "metadata": {
        "id": "rGYZi_lh3nwY"
      },
      "source": [
        "### **ANÁLISE DE DADOS E CARREGAMENTO EM DATAFRAMES**"
      ]
    },
    {
      "cell_type": "code",
      "metadata": {
        "colab": {
          "base_uri": "https://localhost:8080/",
          "height": 844
        },
        "id": "prEaPs-9zb3f",
        "outputId": "901a8255-0e3f-418f-8fcf-b9baf6cabe35"
      },
      "source": [
        "#Descrição (conjunto estatísticos)\n",
        "\n",
        "# Intervalo da data de compras\n",
        "print(\"Primeira compra do intervalo: {0} e última compra do intervalo: {1}\".format(df_clientes[\"DATA_CONTRATACAO\"].min().strftime('%d/%m/%Y'), df_clientes[\"DATA_CONTRATACAO\"].max().strftime('%d/%m/%Y') )) \n",
        "print(\"----------------------------------------------------------------------------------------------\")\n",
        "print('')\n",
        "\n",
        "# Intervalo de dias contratados\n",
        "print(\"Menor prazo de contratação {0}, maior prazo de contratação {1}\".format(df_clientes[\"PRAZO_CONTRATADO\"].min(), df_clientes[\"PRAZO_CONTRATADO\"].max()) ) \n",
        "print(\"----------------------------------------------------------------------------------------------\")\n",
        "\n",
        "# Intervalo do valor das compras\n",
        "print(\"Valor da menor compra: {0} , valor da maior compra: {1}\".format(df_clientes[\"VALOR_FINAL_PLANO\"].min(), df_clientes[\"VALOR_FINAL_PLANO\"].max()) )\n",
        "print(\"----------------------------------------------------------------------------------------------\")\n",
        "print('')\n",
        "\n",
        "# Unidade que mais vendeu\n",
        "print('Unidade com mais vendas: ',df_clientes[\"UNIDADE\"].value_counts(ascending=False).head(1) )\n",
        "print(\"----------------------------------------------------------------------------------------------\")\n",
        "print('')\n",
        "\n",
        "# Unidade que mais faturou\n",
        "print('Unidade com maior faturamento: ', df_clientes.groupby(['UNIDADE'])['VALOR_FINAL_PLANO'].agg('sum').sort_values(ascending=False).head(1) )\n",
        "print('')\n",
        "\n",
        "# Unidade que menos vendeu\n",
        "print('Unidade com menos vendas: ',df_clientes[\"UNIDADE\"].value_counts(ascending=False).tail(1) )\n",
        "print(\"----------------------------------------------------------------------------------------------\")\n",
        "print('')\n",
        "\n",
        "# Unidade que menos faturou\n",
        "print('Unidade com menor faturamento: ', df_clientes.groupby(['UNIDADE'])['VALOR_FINAL_PLANO'].agg('sum').sort_values(ascending=True).head(1) )\n",
        "print(\"----------------------------------------------------------------------------------------------\")\n",
        "print('')\n",
        "\n",
        "# Unidade que mais deu desconto\n",
        "print('Unidade que concedeu mais desconto: ', df_clientes[df_clientes[\"PRECO_PLANO\"] != df_clientes[\"VALOR_FINAL_PLANO\"] ].groupby([\"UNIDADE\"])['UNIDADE'].count().sort_values(ascending=False).head(1) )\n",
        "print(\"----------------------------------------------------------------------------------------------\")\n",
        "print('')\n",
        "\n",
        "# Descrições gerais do dataframe\n",
        "print(\"Descrição geral dos valores do dataframe:\")\n",
        "df_clientes.describe()"
      ],
      "execution_count": 10,
      "outputs": [
        {
          "output_type": "stream",
          "text": [
            "Primeira compra do intervalo: 28/07/2021 e última compra do intervalo: 21/08/2021\n",
            "----------------------------------------------------------------------------------------------\n",
            "\n",
            "Menor prazo de contratação 22, maior prazo de contratação 364\n",
            "----------------------------------------------------------------------------------------------\n",
            "Valor da menor compra: 0.0 , valor da maior compra: 13764.0\n",
            "----------------------------------------------------------------------------------------------\n",
            "\n",
            "Unidade com mais vendas:  UNIDADE 2    1119\n",
            "Name: UNIDADE, dtype: int64\n",
            "----------------------------------------------------------------------------------------------\n",
            "\n",
            "Unidade com maior faturamento:  UNIDADE\n",
            "UNIDADE 15    1038620.43\n",
            "Name: VALOR_FINAL_PLANO, dtype: float64\n",
            "\n",
            "Unidade com menos vendas:  UNIDADE 63    13\n",
            "Name: UNIDADE, dtype: int64\n",
            "----------------------------------------------------------------------------------------------\n",
            "\n",
            "Unidade com menor faturamento:  UNIDADE\n",
            "UNIDADE 63    52496.0\n",
            "Name: VALOR_FINAL_PLANO, dtype: float64\n",
            "----------------------------------------------------------------------------------------------\n",
            "\n",
            "Unidade que concedeu mais desconto:  UNIDADE\n",
            "UNIDADE 2    635\n",
            "Name: UNIDADE, dtype: int64\n",
            "----------------------------------------------------------------------------------------------\n",
            "\n",
            "Descrição geral dos valores do dataframe:\n"
          ],
          "name": "stdout"
        },
        {
          "output_type": "execute_result",
          "data": {
            "text/html": [
              "<div>\n",
              "<style scoped>\n",
              "    .dataframe tbody tr th:only-of-type {\n",
              "        vertical-align: middle;\n",
              "    }\n",
              "\n",
              "    .dataframe tbody tr th {\n",
              "        vertical-align: top;\n",
              "    }\n",
              "\n",
              "    .dataframe thead th {\n",
              "        text-align: right;\n",
              "    }\n",
              "</style>\n",
              "<table border=\"1\" class=\"dataframe\">\n",
              "  <thead>\n",
              "    <tr style=\"text-align: right;\">\n",
              "      <th></th>\n",
              "      <th>MATRICULA</th>\n",
              "      <th>RETROAGIDO</th>\n",
              "      <th>PRECO_PLANO</th>\n",
              "      <th>DESCONTO_PRECO_PLANO</th>\n",
              "      <th>VALOR_FINAL_PLANO</th>\n",
              "      <th>FATOR_REAJUSTE_EMPRESA_CONVENIADA</th>\n",
              "      <th>NUMERO_CARRINHO_COMPRA</th>\n",
              "      <th>IDADE</th>\n",
              "      <th>DIA_PAGAMENTO</th>\n",
              "      <th>PRAZO_CONTRATADO</th>\n",
              "    </tr>\n",
              "  </thead>\n",
              "  <tbody>\n",
              "    <tr>\n",
              "      <th>count</th>\n",
              "      <td>25000.00000</td>\n",
              "      <td>25000.000000</td>\n",
              "      <td>25000.000000</td>\n",
              "      <td>25000.000000</td>\n",
              "      <td>25000.000000</td>\n",
              "      <td>25000.000000</td>\n",
              "      <td>25000.000000</td>\n",
              "      <td>25000.000000</td>\n",
              "      <td>25000.000000</td>\n",
              "      <td>25000.000000</td>\n",
              "    </tr>\n",
              "    <tr>\n",
              "      <th>mean</th>\n",
              "      <td>734833.45896</td>\n",
              "      <td>0.001280</td>\n",
              "      <td>1096.212882</td>\n",
              "      <td>972.470810</td>\n",
              "      <td>931.412018</td>\n",
              "      <td>0.012950</td>\n",
              "      <td>158862.020800</td>\n",
              "      <td>32.129396</td>\n",
              "      <td>15.625520</td>\n",
              "      <td>93.454120</td>\n",
              "    </tr>\n",
              "    <tr>\n",
              "      <th>std</th>\n",
              "      <td>244832.11876</td>\n",
              "      <td>0.035755</td>\n",
              "      <td>1561.635090</td>\n",
              "      <td>1530.059974</td>\n",
              "      <td>1489.932586</td>\n",
              "      <td>0.089583</td>\n",
              "      <td>108838.141128</td>\n",
              "      <td>15.228006</td>\n",
              "      <td>8.804098</td>\n",
              "      <td>121.667035</td>\n",
              "    </tr>\n",
              "    <tr>\n",
              "      <th>min</th>\n",
              "      <td>4.00000</td>\n",
              "      <td>0.000000</td>\n",
              "      <td>1.000000</td>\n",
              "      <td>0.000000</td>\n",
              "      <td>0.000000</td>\n",
              "      <td>0.000000</td>\n",
              "      <td>7294.000000</td>\n",
              "      <td>0.500000</td>\n",
              "      <td>1.000000</td>\n",
              "      <td>22.000000</td>\n",
              "    </tr>\n",
              "    <tr>\n",
              "      <th>25%</th>\n",
              "      <td>544898.00000</td>\n",
              "      <td>0.000000</td>\n",
              "      <td>303.000000</td>\n",
              "      <td>198.000000</td>\n",
              "      <td>190.500000</td>\n",
              "      <td>0.000000</td>\n",
              "      <td>68390.750000</td>\n",
              "      <td>22.100000</td>\n",
              "      <td>8.000000</td>\n",
              "      <td>30.000000</td>\n",
              "    </tr>\n",
              "    <tr>\n",
              "      <th>50%</th>\n",
              "      <td>808957.00000</td>\n",
              "      <td>0.000000</td>\n",
              "      <td>464.180000</td>\n",
              "      <td>373.000000</td>\n",
              "      <td>336.900000</td>\n",
              "      <td>0.000000</td>\n",
              "      <td>131901.500000</td>\n",
              "      <td>31.600000</td>\n",
              "      <td>16.000000</td>\n",
              "      <td>30.000000</td>\n",
              "    </tr>\n",
              "    <tr>\n",
              "      <th>75%</th>\n",
              "      <td>960465.25000</td>\n",
              "      <td>0.000000</td>\n",
              "      <td>948.000000</td>\n",
              "      <td>697.450000</td>\n",
              "      <td>641.000000</td>\n",
              "      <td>0.000000</td>\n",
              "      <td>219826.000000</td>\n",
              "      <td>41.400000</td>\n",
              "      <td>23.000000</td>\n",
              "      <td>91.000000</td>\n",
              "    </tr>\n",
              "    <tr>\n",
              "      <th>max</th>\n",
              "      <td>984276.00000</td>\n",
              "      <td>1.000000</td>\n",
              "      <td>13764.000000</td>\n",
              "      <td>13764.000000</td>\n",
              "      <td>13764.000000</td>\n",
              "      <td>0.990000</td>\n",
              "      <td>405660.000000</td>\n",
              "      <td>120.700000</td>\n",
              "      <td>31.000000</td>\n",
              "      <td>364.000000</td>\n",
              "    </tr>\n",
              "  </tbody>\n",
              "</table>\n",
              "</div>"
            ],
            "text/plain": [
              "          MATRICULA    RETROAGIDO  ...  DIA_PAGAMENTO  PRAZO_CONTRATADO\n",
              "count   25000.00000  25000.000000  ...   25000.000000      25000.000000\n",
              "mean   734833.45896      0.001280  ...      15.625520         93.454120\n",
              "std    244832.11876      0.035755  ...       8.804098        121.667035\n",
              "min         4.00000      0.000000  ...       1.000000         22.000000\n",
              "25%    544898.00000      0.000000  ...       8.000000         30.000000\n",
              "50%    808957.00000      0.000000  ...      16.000000         30.000000\n",
              "75%    960465.25000      0.000000  ...      23.000000         91.000000\n",
              "max    984276.00000      1.000000  ...      31.000000        364.000000\n",
              "\n",
              "[8 rows x 10 columns]"
            ]
          },
          "metadata": {},
          "execution_count": 10
        }
      ]
    },
    {
      "cell_type": "code",
      "metadata": {
        "id": "Zz-zleFTtw8w"
      },
      "source": [
        "# Empresas convêniadas\n",
        "df_empresas_conveniadas = df_clientes[df_clientes.EMPRESA_CONVENIADA != 'Sem Convênio'].groupby([\"EMPRESA_CONVENIADA\"])['NUMERO_CARRINHO_COMPRA'].agg('count')\n",
        "#\n",
        "#df_empresas_conveniadas.set_index('EMPRESA_CONVENIADA', inplace=True)\n",
        "plt.rcParams['figure.figsize'] = (20,20)\n",
        "df_empresas_conveniadas.sort_values().plot.bar(title=\"Total de vendas por convênio\", color=\"red\")\n",
        "plt.style.use('ggplot')\n",
        "plt.show()\n"
      ],
      "execution_count": null,
      "outputs": []
    },
    {
      "cell_type": "code",
      "metadata": {
        "id": "2IjSMemqtzly"
      },
      "source": [
        "# Quantidade de convênios por unidade\n",
        "df_convenio_unidade = df_clientes[df_clientes.EMPRESA_CONVENIADA != 'Sem Convênio'].groupby([\"UNIDADE\"])['EMPRESA_CONVENIADA'].agg('count')\n",
        "plt.rcParams['figure.figsize'] = (20,20)\n",
        "df_convenio_unidade.sort_values().plot.bar(title=\"Total de convênios por unidade\", color=\"blue\")\n",
        "plt.style.use('ggplot')\n",
        "plt.show()\n"
      ],
      "execution_count": null,
      "outputs": []
    },
    {
      "cell_type": "code",
      "metadata": {
        "id": "PngRzOLf_eNm"
      },
      "source": [
        "#Convênios por Unidade e Gênero\n",
        "df_convenio_unidade_genero = pd.pivot_table(data=df_clientes, values='EMPRESA_CONVENIADA', index='UNIDADE', columns='SEXO', aggfunc='count').sort_values(by=\"UNIDADE\")\n",
        "bar_1 = df_convenio_unidade_genero[\"F\"]# Array com gênero feminino com total de convênios\n",
        "bar_2 = df_convenio_unidade_genero[\"M\"]# Array com gênero feminino com total de convênios\n",
        "\n",
        "x_pos = np.arange(len(df_convenio_unidade_genero)) # Range com a quantidade de itens das barras\n",
        "\n",
        "plt.rcParams['figure.figsize'] = (20,20)\n",
        "first_bar = plt.bar(x_pos, bar_1, 0.3, color='b', label=\"Feminino\")\n",
        "second_bar = plt.bar(x_pos, bar_2, 0.3, color='y', label=\"Masculino\", bottom=bar_1)\n",
        "df_unidades = df_clientes[\"UNIDADE\"].sort_values().unique()\n",
        "\n",
        "plt.xticks(x_pos, (df_unidades), rotation=90) # Definir posição e labels no eixo X\n",
        "plt.legend()\n",
        "plt.show()"
      ],
      "execution_count": null,
      "outputs": []
    },
    {
      "cell_type": "code",
      "metadata": {
        "id": "C_oEiTMnt8HK"
      },
      "source": [
        "# Quantidade de convênios por faixa etária\n",
        "df_convenio_faixa_etaria = df_clientes[df_clientes.EMPRESA_CONVENIADA != 'Sem Convênio'].groupby([\"FAIXA_ETARIA\"])['EMPRESA_CONVENIADA'].agg('count')\n",
        "plt.rcParams['figure.figsize'] = (10,10)\n",
        "df_convenio_faixa_etaria.sort_values().plot.bar(title=\"Total de convênios por faixa etária\", color=\"blue\")\n",
        "plt.style.use('ggplot')\n",
        "plt.show()"
      ],
      "execution_count": null,
      "outputs": []
    },
    {
      "cell_type": "code",
      "metadata": {
        "id": "H8V6KNwluQvD"
      },
      "source": [
        "# Distribuição de cliente ativos e inativos por unidade\n",
        "df_cliente_unidade_status = pd.pivot_table(data=df_clientes, values='MATRICULA', index='UNIDADE', columns='STATUS_CLIENTE', aggfunc='count').sort_values(by=\"UNIDADE\")\n",
        "\n",
        "bar_1 = df_cliente_unidade_status['Ativo']# Array com ativos por unidade\n",
        "bar_2 = df_cliente_unidade_status['Inativo']# Array com inativos por unidade\n",
        "\n",
        "x_pos = np.arange(len(df_cliente_unidade_status)) # Range com a quantidade de itens das barras\n",
        "\n",
        "plt.rcParams['figure.figsize'] = (20,10)\n",
        "first_bar = plt.bar(x_pos, bar_1, 0.3, color='b', label=\"Ativo\")\n",
        "second_bar = plt.bar(x_pos, bar_2, 0.3, color='r', label=\"Inativo\", bottom=bar_1)\n",
        "df_unidades = df_clientes[\"UNIDADE\"].sort_values().unique()\n",
        "\n",
        "plt.xticks(x_pos, (df_unidades), rotation=90) # Definir posição e labels no eixo X\n",
        "plt.legend()\n",
        "plt.show()"
      ],
      "execution_count": null,
      "outputs": []
    },
    {
      "cell_type": "code",
      "metadata": {
        "id": "4sbd3lI6sfCw"
      },
      "source": [
        "# Distribuição de contratos ativos por unidade\n",
        "df_contratos_ativos = df_clientes[df_clientes.EMPRESA_CONVENIADA != 'Sem Convênio'].groupby([\"FAIXA_ETARIA\"])['EMPRESA_CONVENIADA'].agg('count')\n",
        "plt.rcParams['figure.figsize'] = (10,10)\n",
        "df_convenio_faixa_etaria.sort_values().plot.bar(title=\"Total de convênios por faixa etária\", color=\"blue\")\n",
        "plt.style.use('ggplot')\n",
        "plt.show()"
      ],
      "execution_count": null,
      "outputs": []
    },
    {
      "cell_type": "code",
      "metadata": {
        "id": "rGGvdXqhsjJJ"
      },
      "source": [
        "# Distribuição de contratos (status) por unidade\n",
        "df_cliente_contrato_status = pd.pivot_table(data=df_clientes, values='MATRICULA', index='UNIDADE', columns='ESTADO_CONTRATO', aggfunc='count').sort_values(by=\"UNIDADE\")\n",
        "\n",
        "bar_1 = df_cliente_contrato_status['Ativo']# Array com ativos por unidade\n",
        "bar_2 = df_cliente_contrato_status['Não Aprovado']# Array com não aprovados por unidade\n",
        "bar_3 = df_cliente_contrato_status['Excluído']# Array com excluídos por unidade\n",
        "bar_4 = df_cliente_contrato_status['Cancelado']# Array com cancelados por unidade\n",
        "bar_5 = df_cliente_contrato_status['Vencido']# Array com vencidos por unidade\n",
        "\n",
        "x_pos = np.arange(len(df_cliente_contrato_status)) # Range com a quantidade de itens das barras\n",
        "\n",
        "plt.rcParams['figure.figsize'] = (20,10)\n",
        "first_bar  = plt.bar(x_pos, bar_1, 0.3, color='b', label=\"Ativo\")\n",
        "second_bar = plt.bar(x_pos, bar_5, 0.3, color='m', label=\"Vencido\", bottom=bar_1)\n",
        "thirth_bar = plt.bar(x_pos, bar_4, 0.3, color='y', label=\"Cancelado\", bottom=bar_5)\n",
        "fourth_bar = plt.bar(x_pos, bar_2, 0.3, color='r', label=\"Não Aprovado\", bottom=bar_4)\n",
        "fifth_bar  = plt.bar(x_pos, bar_3, 0.3, color='k', label=\"Excluído\", bottom=bar_2)\n",
        "df_unidades = df_clientes[\"UNIDADE\"].sort_values().unique()\n",
        "\n",
        "plt.xticks(x_pos, (df_unidades), rotation=90) # Definir posição e labels no eixo X\n",
        "plt.legend()\n",
        "plt.show()\n"
      ],
      "execution_count": null,
      "outputs": []
    },
    {
      "cell_type": "code",
      "metadata": {
        "id": "fdjZ2IbHs-hL"
      },
      "source": [
        "# Distribuição de gêneros por unidade\n",
        "df_cliente_genero_unidade = pd.pivot_table(data=df_clientes, values='MATRICULA', index='UNIDADE', columns='SEXO', aggfunc='count').sort_values(by=\"UNIDADE\")\n",
        "\n",
        "bar_1 = df_cliente_genero_unidade['M']# Array com gênero masculino por unidade\n",
        "bar_2 = df_cliente_genero_unidade['F']# Array com gênero feminino por unidade\n",
        "\n",
        "x_pos = np.arange(len(df_cliente_genero_unidade)) # Range com a quantidade de itens das barras\n",
        "\n",
        "plt.rcParams['figure.figsize'] = (20,10)\n",
        "first_bar = plt.bar(x_pos, bar_1, 0.3, color='b', label=\"Masculino\")\n",
        "second_bar = plt.bar(x_pos, bar_2, 0.3, color='y', label=\"Feminino\", bottom=bar_1)\n",
        "df_unidades = df_clientes[\"UNIDADE\"].sort_values().unique()\n",
        "\n",
        "plt.xticks(x_pos, (df_unidades), rotation=90) # Definir posição e labels no eixo X\n",
        "plt.legend()\n",
        "plt.show()"
      ],
      "execution_count": null,
      "outputs": []
    },
    {
      "cell_type": "code",
      "metadata": {
        "id": "75uj_kU6svB-"
      },
      "source": [
        "# Clientes estrangeiros nas unidades\n",
        "df_unidade_estrangeiros = pd.pivot_table(data=df_clientes[df_clientes['ESTRANGEIRO']=='S'], values='MATRICULA', index='UNIDADE', columns='ESTRANGEIRO', aggfunc='count').sort_values(by=\"UNIDADE\")\n",
        "plt.rcParams['figure.figsize'] = (20,5)\n",
        "df_unidade_estrangeiros.sort_values(by=\"UNIDADE\").plot.bar(title=\"Distribuição de clientes Estrangeiros por Unidades\", color=\"darkorchid\")\n",
        "plt.style.use('ggplot')\n",
        "plt.show()"
      ],
      "execution_count": null,
      "outputs": []
    },
    {
      "cell_type": "code",
      "metadata": {
        "id": "KuilOSkksBCQ"
      },
      "source": [
        "# Distribuição de clientes idosos por Unidade\n",
        "df_unidade_idosos = pd.pivot_table(data=df_clientes[df_clientes['FAIXA_ETARIA']=='Idoso'], values='MATRICULA', index='UNIDADE', columns='FAIXA_ETARIA', aggfunc='count').sort_values(by=\"UNIDADE\")\n",
        "plt.rcParams['figure.figsize'] = (20,5)\n",
        "df_unidade_idosos.sort_values(by=\"UNIDADE\").plot.bar(title=\"Distribuição de clientes Idosos por Unidades\", color=\"darkorange\")\n",
        "plt.style.use('ggplot')\n",
        "plt.show()"
      ],
      "execution_count": null,
      "outputs": []
    },
    {
      "cell_type": "code",
      "metadata": {
        "id": "bWzkoYq2sI3b"
      },
      "source": [
        "# Distribuição de de clientes adultos por unidade\n",
        "df_unidade_adulto = pd.pivot_table(data=df_clientes[df_clientes['FAIXA_ETARIA']=='Adulto'], values='MATRICULA', index='UNIDADE', columns='FAIXA_ETARIA', aggfunc='count').sort_values(by=\"UNIDADE\")\n",
        "plt.rcParams['figure.figsize'] = (20,5)\n",
        "df_unidade_adulto.sort_values(by=\"UNIDADE\").plot.bar(title=\"Distribuição de clientes Adulto por Unidades\", color=\"forestgreen\")\n",
        "plt.style.use('ggplot')\n",
        "plt.show()"
      ],
      "execution_count": null,
      "outputs": []
    },
    {
      "cell_type": "code",
      "metadata": {
        "id": "Hf8E6zwkvXO7"
      },
      "source": [
        "# DIstribuição de clientes Jovens de idade por unidade\n",
        "df_unidade_adulto = pd.pivot_table(data=df_clientes[df_clientes['FAIXA_ETARIA']=='Jovem'], values='MATRICULA', index='UNIDADE', columns='FAIXA_ETARIA', aggfunc='count').sort_values(by=\"UNIDADE\")\n",
        "plt.rcParams['figure.figsize'] = (20,5)\n",
        "df_unidade_adulto.sort_values(by=\"UNIDADE\").plot.bar(title=\"Distribuição de clientes Adulto por Unidades\", color=\"forestgreen\")\n",
        "plt.style.use('ggplot')\n",
        "plt.show()"
      ],
      "execution_count": null,
      "outputs": []
    },
    {
      "cell_type": "code",
      "metadata": {
        "id": "SXJH4DtPsFR6"
      },
      "source": [
        "# DIstribuição de clientes menores de idade por unidade\n",
        "df_unidade_jovem = pd.pivot_table(data=df_clientes[df_clientes['FAIXA_ETARIA']=='Criança'], values='MATRICULA', index='UNIDADE', columns='FAIXA_ETARIA', aggfunc='count').sort_values(by=\"UNIDADE\")\n",
        "plt.rcParams['figure.figsize'] = (20,5)\n",
        "df_unidade_jovem.sort_values(by=\"UNIDADE\").plot.bar(title=\"Distribuição de clientes Criança por Unidades\", color=\"deeppink\")\n",
        "plt.style.use('ggplot')\n",
        "plt.show()"
      ],
      "execution_count": null,
      "outputs": []
    },
    {
      "cell_type": "code",
      "metadata": {
        "id": "Lhih_uAJqw7T"
      },
      "source": [
        "# Vendas por unidade\n",
        "df_unidade_vendas = df_clientes[(df_clientes.ESTADO_PLANO_CONTRATO != 'Não Aprovado') & (df_clientes.ESTADO_PLANO_CONTRATO != 'Excluído')].groupby([\"UNIDADE\"])['NUMERO_CARRINHO_COMPRA'].agg('count').reset_index()\n",
        "plt.rcParams['figure.figsize'] = (20,10)\n",
        "df_unidade_vendas.sort_values(by=['UNIDADE']).plot.bar(title=\"Quantidade de vendas por Unidade\", color=\"green\")\n",
        "plt.style.use('ggplot')\n",
        "plt.show()"
      ],
      "execution_count": null,
      "outputs": []
    },
    {
      "cell_type": "code",
      "metadata": {
        "id": "FkAsooPxq1Ml"
      },
      "source": [
        "# Vendas por dia \n",
        "df_vendas_dia = data=df_clientes[(df_clientes.ESTADO_PLANO_CONTRATO != 'Não Aprovado') & (df_clientes.ESTADO_PLANO_CONTRATO != 'Excluído')].groupby([\"DIA_PAGAMENTO\"])['NUMERO_CARRINHO_COMPRA'].agg('count')\n",
        "plt.rcParams['figure.figsize'] = (20,10)\n",
        "df_vendas_dia.plot.line(marker=\"v\", title=\"Quantidade de vendas por Dia\", color=\"teal\")\n",
        "plt.style.use('ggplot')\n",
        "plt.legend()\n",
        "plt.show()"
      ],
      "execution_count": null,
      "outputs": []
    },
    {
      "cell_type": "code",
      "metadata": {
        "id": "Yv2jlguhq_5Y"
      },
      "source": [
        "# vendas por horário\n",
        "df_vendas_hora = data=df_clientes[(df_clientes.ESTADO_PLANO_CONTRATO != 'Não Aprovado') & (df_clientes.ESTADO_PLANO_CONTRATO != 'Excluído')].groupby(df_clientes[\"DATA_CONTRATACAO\"].dt.hour)['NUMERO_CARRINHO_COMPRA'].agg('count')\n",
        "plt.rcParams['figure.figsize'] = (20,10)\n",
        "df_vendas_hora.plot.line(marker=\"v\", title=\"Quantidade de vendas por Hora\", color=\"tomato\")\n",
        "plt.style.use('ggplot')\n",
        "plt.legend()\n",
        "plt.show()"
      ],
      "execution_count": null,
      "outputs": []
    },
    {
      "cell_type": "code",
      "metadata": {
        "id": "zfoLVKWQrCOi"
      },
      "source": [
        "# Vendas por Idade\n",
        "df_vendas_faixa_etaria = data=df_clientes[(df_clientes.ESTADO_PLANO_CONTRATO != 'Não Aprovado') & (df_clientes.ESTADO_PLANO_CONTRATO != 'Excluído')].groupby([\"FAIXA_ETARIA\"])['NUMERO_CARRINHO_COMPRA'].agg('count')\n",
        "plt.rcParams['figure.figsize'] = (20,5)\n",
        "df_vendas_faixa_etaria.plot.bar(title=\"Quantidade de vendas por Faixa Etária\", color=\"black\")\n",
        "plt.style.use('ggplot')\n",
        "plt.show()"
      ],
      "execution_count": null,
      "outputs": []
    },
    {
      "cell_type": "code",
      "metadata": {
        "id": "SPfhsVA0rLvm"
      },
      "source": [
        "# TOP 10 Planos mais vendidos\n",
        "df_cliente_planos = df_clientes[(df_clientes.ESTADO_PLANO_CONTRATO != 'Não Aprovado') & (df_clientes.ESTADO_PLANO_CONTRATO != 'Excluído')].groupby([\"PLANO\"])['NUMERO_CARRINHO_COMPRA'].agg('count')\n",
        "df_cliente_planos.sort_values(ascending=False).head(10)"
      ],
      "execution_count": null,
      "outputs": []
    },
    {
      "cell_type": "code",
      "metadata": {
        "id": "VoliG7sUtHxK"
      },
      "source": [
        "# Top 5 planos mais vendidos para homens\n",
        "df_cliente_masculino_planos = df_clientes[df_clientes.SEXO == 'M'].groupby([\"PLANO\"])['NUMERO_CARRINHO_COMPRA'].agg('count')\n",
        "df_cliente_masculino_planos.sort_values(ascending=False).head(5)"
      ],
      "execution_count": null,
      "outputs": []
    },
    {
      "cell_type": "code",
      "metadata": {
        "id": "Z29kCoLztLGf"
      },
      "source": [
        "# TOP 5 planos mais vendidos para mulheres\n",
        "df_cliente_feminino_planos = df_clientes[df_clientes.SEXO == 'F'].groupby([\"PLANO\"])['NUMERO_CARRINHO_COMPRA'].agg('count')\n",
        "df_cliente_feminino_planos.sort_values(ascending=False).head(5)"
      ],
      "execution_count": null,
      "outputs": []
    },
    {
      "cell_type": "code",
      "metadata": {
        "id": "v_6XMBtzrQNp"
      },
      "source": [
        "# TOP 10 Planos mais vendidos para Idosos\n",
        "df_cliente_planos_idosos = df_clientes[(df_clientes.ESTADO_PLANO_CONTRATO != 'Não Aprovado') & (df_clientes.ESTADO_PLANO_CONTRATO != 'Excluído') & (df_clientes.FAIXA_ETARIA=='Idoso')].groupby([\"PLANO\"])['NUMERO_CARRINHO_COMPRA'].agg('count')\n",
        "df_cliente_planos_idosos.sort_values(ascending=False).head(10)"
      ],
      "execution_count": null,
      "outputs": []
    },
    {
      "cell_type": "code",
      "metadata": {
        "id": "CraE8n_irY3Z"
      },
      "source": [
        "# TOP 10 PLanos mais vendidos para menores de Crianças\n",
        "df_cliente_planos_crianca = df_clientes[(df_clientes.ESTADO_PLANO_CONTRATO != 'Não Aprovado') & (df_clientes.ESTADO_PLANO_CONTRATO != 'Excluído') & (df_clientes.FAIXA_ETARIA=='Criança')].groupby([\"PLANO\"])['NUMERO_CARRINHO_COMPRA'].agg('count')\n",
        "df_cliente_planos_crianca.sort_values(ascending=False).head(10)"
      ],
      "execution_count": null,
      "outputs": []
    },
    {
      "cell_type": "code",
      "metadata": {
        "id": "H2w71akEvBwr"
      },
      "source": [
        "# Planos/Periodicidade vendidos por unidade\n",
        "df_vendas_periodicidade_plano = pd.pivot_table(data=df_clientes[(df_clientes.ESTADO_PLANO_CONTRATO != 'Não Aprovado') & (df_clientes.ESTADO_PLANO_CONTRATO != 'Excluído')], values='PLANO', index='UNIDADE', columns='PERIODICIDADE', aggfunc='count').sort_values(by=\"UNIDADE\")\n",
        "\n",
        "bar_1 = df_vendas_periodicidade_plano['Mensal']# Array com periodicidades mensais por unidade\n",
        "bar_2 = df_vendas_periodicidade_plano['Trimestral']# Array com periodicidades trimenstrais por unidade\n",
        "bar_3 = df_vendas_periodicidade_plano['Semestral']# Array com periodicidades semestrais por unidade\n",
        "bar_4 = df_vendas_periodicidade_plano['Anual']# Array com periodicidades anuais por unidade\n",
        "\n",
        "x_pos = np.arange(len(df_vendas_periodicidade_plano)) # Range com a quantidade de itens das barras\n",
        "\n",
        "plt.rcParams['figure.figsize'] = (20,10)\n",
        "first_bar = plt.bar(x_pos, bar_1, 0.3, color='b', label=\"Mensal\")\n",
        "second_bar = plt.bar(x_pos, bar_2, 0.3, color='m', label=\"Trimestral\", bottom=bar_1)\n",
        "thirth_bar = plt.bar(x_pos, bar_3, 0.3, color='y', label=\"Semestral\", bottom=bar_2)\n",
        "fourth_bar = plt.bar(x_pos, bar_4, 0.3, color='r', label=\"Anual\", bottom=bar_3)\n",
        "df_unidades = df_clientes[\"UNIDADE\"].sort_values().unique()\n",
        "\n",
        "plt.xticks(x_pos, (df_unidades), rotation=90) # Definir posição e labels no eixo X\n",
        "plt.legend()\n",
        "plt.show()"
      ],
      "execution_count": null,
      "outputs": []
    },
    {
      "cell_type": "code",
      "metadata": {
        "id": "cw7ULTzdvWOi",
        "colab": {
          "base_uri": "https://localhost:8080/",
          "height": 592
        },
        "outputId": "a2bf5c95-3f02-4805-d3dd-3e4ff5405e62"
      },
      "source": [
        "# Periodicidades por gênero\n",
        "df_vendas_periodicidade_genero = pd.pivot_table(data=df_clientes[(df_clientes.ESTADO_PLANO_CONTRATO != 'Não Aprovado') & (df_clientes.ESTADO_PLANO_CONTRATO != 'Excluído')], values='PLANO', index='SEXO', columns='PERIODICIDADE', aggfunc='count').sort_values(by=\"SEXO\")\n",
        "\n",
        "bar_1 = df_vendas_periodicidade_genero['Mensal']# Array com Mensal por gênero\n",
        "bar_2 = df_vendas_periodicidade_genero['Trimestral']# Array com Trimestral por gênero\n",
        "bar_3 = df_vendas_periodicidade_genero['Semestral']# Array com Semestral por gênero\n",
        "bar_4 = df_vendas_periodicidade_genero['Anual']# Array com Anual por gênero\n",
        "\n",
        "x_pos = np.arange(len(df_vendas_periodicidade_genero)) # Range com a quantidade de itens das barras\n",
        "\n",
        "plt.rcParams['figure.figsize'] = (20,10)\n",
        "first_bar = plt.bar(x_pos, bar_1, 0.5, color='b', label=\"Mensal\")\n",
        "second_bar = plt.bar(x_pos, bar_2, 0.5, color='m', label=\"Trimestral\", bottom=bar_1)\n",
        "thirth_bar = plt.bar(x_pos, bar_3, 0.5, color='y', label=\"Semestral\", bottom=bar_2)\n",
        "fourth_bar = plt.bar(x_pos, bar_4, 0.5, color='r', label=\"Anual\", bottom=bar_3)\n",
        "df_sexo = df_clientes[\"SEXO\"].sort_values().unique()\n",
        "\n",
        "plt.xticks(x_pos, (df_sexo)) # Definir posição e labels no eixo X\n",
        "plt.legend()\n",
        "plt.show()"
      ],
      "execution_count": 134,
      "outputs": [
        {
          "output_type": "display_data",
          "data": {
            "image/png": "[encoded data removed]",
            "text/plain": [
              "<Figure size 1440x720 with 1 Axes>"
            ]
          },
          "metadata": {}
        }
      ]
    },
    {
      "cell_type": "code",
      "metadata": {
        "id": "kSY8OcbgvaG4",
        "colab": {
          "base_uri": "https://localhost:8080/",
          "height": 592
        },
        "outputId": "f09d564d-07d8-479b-8c11-ebd5b8e5c17b"
      },
      "source": [
        "# Periodicidades por faixa etária\n",
        "df_vendas_periodicidade_faixa_etaria = pd.pivot_table(data=df_clientes[(df_clientes.ESTADO_PLANO_CONTRATO != 'Não Aprovado') & (df_clientes.ESTADO_PLANO_CONTRATO != 'Excluído')], values='PLANO', index='FAIXA_ETARIA', columns='PERIODICIDADE', aggfunc='count').sort_values(by=\"FAIXA_ETARIA\")\n",
        "\n",
        "bar_1 = df_vendas_periodicidade_faixa_etaria['Mensal']# Array com Mensal por gênero\n",
        "bar_2 = df_vendas_periodicidade_faixa_etaria['Trimestral']# Array com Trimestral por gênero\n",
        "bar_3 = df_vendas_periodicidade_faixa_etaria['Semestral']# Array com Semestral por gênero\n",
        "bar_4 = df_vendas_periodicidade_faixa_etaria['Anual']# Array com Anual por gênero\n",
        "\n",
        "x_pos = np.arange(len(df_vendas_periodicidade_faixa_etaria)) # Range com a quantidade de itens das barras\n",
        "\n",
        "plt.rcParams['figure.figsize'] = (20,10)\n",
        "first_bar = plt.bar(x_pos, bar_1, 0.5, color='b', label=\"Mensal\")\n",
        "second_bar = plt.bar(x_pos, bar_2, 0.5, color='m', label=\"Trimestral\", bottom=bar_1)\n",
        "thirth_bar = plt.bar(x_pos, bar_3, 0.5, color='y', label=\"Semestral\", bottom=bar_2)\n",
        "fourth_bar = plt.bar(x_pos, bar_4, 0.5, color='r', label=\"Anual\", bottom=bar_3)\n",
        "df_sexo = df_clientes[\"FAIXA_ETARIA\"].sort_values().unique()\n",
        "\n",
        "plt.xticks(x_pos, (df_sexo)) # Definir posição e labels no eixo X\n",
        "plt.legend()\n",
        "plt.show()"
      ],
      "execution_count": 135,
      "outputs": [
        {
          "output_type": "display_data",
          "data": {
            "image/png": "[encoded data removed]",
            "text/plain": [
              "<Figure size 1440x720 with 1 Axes>"
            ]
          },
          "metadata": {}
        }
      ]
    }
  ]
}